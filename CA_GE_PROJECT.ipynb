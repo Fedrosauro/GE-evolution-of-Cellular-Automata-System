{
  "cells": [
    {
      "cell_type": "markdown",
      "metadata": {
        "id": "GBGdqC2xmvph"
      },
      "source": [
        "# **Evolution of Cellular Automata Rules with GE**"
      ]
    },
    {
      "cell_type": "markdown",
      "source": [
        "*Student*: Federico Pellizzaro\n",
        "\n",
        "*Matricola*: IN2000196\n",
        "\n",
        "*Project Target*: Evolve the local rule of a CA to conform to a given behavior. In other words, given a target matrix which could have a certain shape/pattern/configuration, evolve the CA rules in order to get the output matrix as similar to the target matrix.\n",
        "\n",
        "The inspiration for this project came from the very well known game [*Conway's Game of Life*](https://en.wikipedia.org/wiki/Conway%27s_Game_of_Life).\n",
        "\n",
        "All classes that are shown below could have been moved to a separate python file (for example `utils.py`) but for semplicity reasons I've decided to include them here.\n",
        "\n",
        "Useful libraries that will be used in the project\n",
        "\n",
        "* `re` it's a library used to perform regular expression searches\n",
        "* `scipy.spatial.distance` has been used to compute the jaccard distance\n",
        "* `random`, `numpy`, `copy` used for regular usage"
      ],
      "metadata": {
        "id": "cqzSDXXiVcsJ"
      }
    },
    {
      "cell_type": "code",
      "execution_count": null,
      "metadata": {
        "id": "taffg07zmvpl"
      },
      "outputs": [],
      "source": [
        "import re\n",
        "import random\n",
        "import numpy as np\n",
        "import copy\n",
        "from scipy.spatial.distance import jaccard"
      ]
    },
    {
      "cell_type": "markdown",
      "source": [
        "## **Backus Naur Form**\n"
      ],
      "metadata": {
        "id": "97wfa1uTVQ1s"
      }
    },
    {
      "cell_type": "markdown",
      "metadata": {
        "id": "gjSVlY7dmvpm"
      },
      "source": [
        "### **Production Rules**\n",
        "&emsp;$S$ &rarr;&nbsp; $(S)$ &nbsp; $O$ &nbsp; $(V)$ &nbsp; $|$ &nbsp; $(S)$ &nbsp; $O$ &nbsp; $(N)$ &nbsp; $|$ &nbsp; $(V)$ &nbsp; $|$ &nbsp; $(N)$\n",
        "\n",
        "&emsp;$O$ &rarr;&nbsp; $<=living\\_neighbours<=$ &nbsp; $|$ &nbsp; $and$ &nbsp; $|$ &nbsp; $or$\n",
        "\n",
        "&emsp;$V$ &rarr;&nbsp; $is\\_alive(cell)$ &nbsp; $|$ &nbsp; $is\\_dead(cell)$\n",
        "\n",
        "&emsp;$N$ &rarr;&nbsp; $0$ &nbsp; $|$ &nbsp; $1$ &nbsp; $|$ &nbsp; $2$ &nbsp; $|$ &nbsp; $3$ &nbsp; $|$ &nbsp; $4$ &nbsp; $|$ &nbsp; $5$ &nbsp; $|$ &nbsp; $6$ &nbsp; $|$ &nbsp; $7$ &nbsp; $|$ &nbsp; $8$\n",
        "\n",
        "### **Non-Terminal Symbols**\n",
        "\n",
        "&emsp;$N = \\{S, O, V, N\\}$\n",
        "\n",
        "### **Terminal Symbols**\n",
        "\n",
        "&emsp;$T = \\{...all$&nbsp;$others...\\}$\n",
        "\n",
        "### **Starting Symbol**\n",
        "\n",
        "&emsp;$S$\n",
        "\n",
        "*Observation*: the action selection $A$ &rarr; &nbsp; $die$ &nbsp; $|$ &nbsp; $survive$ &nbsp; $|$ &nbsp; $become\\_alive$ should not be considered as a real production rule since it cannot be reached from the starting symbol. Still it's used to select which action the program should take when the body of the *if statement* is **True**."
      ]
    },
    {
      "cell_type": "markdown",
      "source": [
        "## **Individual**"
      ],
      "metadata": {
        "id": "jF2hAW_BVzvh"
      }
    },
    {
      "cell_type": "markdown",
      "source": [
        "The base game *Conway's Game of Life* comprehends 4 rules. Therefore an individual will be composed by a certain number of rules. A rule is a list of integers, example:\n",
        "\n",
        "&emsp;$rule$ &rarr; $[3, 5, 21, 38, 16, 19 .....]$\n",
        "\n",
        "The evaluation of this list of integers is done by using the `generate_rule(array)` function, which can have 2 standard outputs:\n",
        "\n",
        "*   $['die', '((3)) <=living\\_neighbours<= ((4))']$ *(for example)*\n",
        "*   $['become\\_alive', 'abort']$\n",
        "\n",
        "The first case is a rule which is actually usable since it has *action* => **die** and a *body* => **((3)) <=living\\_neighbours<= ((4))**.\n",
        "\n",
        "The second case arises in the case if `counter > max_iteration_for_expr_creation` which basically means that rule generation has become too much long therefore it's killed."
      ],
      "metadata": {
        "id": "cNy-QDUAVxRL"
      }
    },
    {
      "cell_type": "markdown",
      "source": [
        "## **Initial Setup**"
      ],
      "metadata": {
        "id": "1wFIyTqeUfoR"
      }
    },
    {
      "cell_type": "code",
      "execution_count": null,
      "metadata": {
        "id": "L279RB95mvpo"
      },
      "outputs": [],
      "source": [
        "S = [\"(S) O (V)\", \"(S) O (N)\", \"(N)\", \"(V)\"]\n",
        "O = [\"<=living_neighbours<=\", \"and\", \"or\"]\n",
        "V = [\"is_alive(cell)\", \"is_dead(cell)\"]\n",
        "N = [\"0\", \"1\", \"2\", \"3\", \"4\", \"5\", \"6\", \"7\", \"8\"]\n",
        "\n",
        "A = [\"die\", \"survive\", \"become_alive\"]"
      ]
    },
    {
      "cell_type": "markdown",
      "metadata": {
        "id": "sDEtUgRwmvpp"
      },
      "source": [
        "Useful parameters later used in the project."
      ]
    },
    {
      "cell_type": "code",
      "execution_count": null,
      "metadata": {
        "id": "_WMsiETxmvpp"
      },
      "outputs": [],
      "source": [
        "num_generation = 5 #max number of generations that the game can perform\n",
        "max_number_rules = 4 #max number of rules per individual\n",
        "max_array_size = 15 #max size of the list of integers of a single rule\n",
        "max_range = 50 #range of integers that can be used in a rule\n",
        "max_iteration_for_expr_creation = 20 #corner case for which a single rule becomes too large\n",
        "p_mut = 0.2 #choose between 2 types of deeper mutation with a certain prob.\n",
        "p_cr = 0.3 #choose between 2 types of crossover with a certain prob."
      ]
    },
    {
      "cell_type": "markdown",
      "metadata": {
        "id": "ooyPltVemvpq"
      },
      "source": [
        "Here we define *target_matrix*, the pattern or the configuration we would like to obtain while doing each *run* of the simulation."
      ]
    },
    {
      "cell_type": "code",
      "execution_count": null,
      "metadata": {
        "colab": {
          "base_uri": "https://localhost:8080/"
        },
        "id": "2tHZ-m54mvpr",
        "outputId": "ce7837a6-424f-4359-dc80-385e6a326ac0"
      },
      "outputs": [
        {
          "output_type": "stream",
          "name": "stdout",
          "text": [
            "[[0 0 0 0 0 0 0 0]\n",
            " [0 0 1 1 0 0 0 0]\n",
            " [0 1 0 0 1 0 0 0]\n",
            " [0 0 1 1 0 0 0 0]\n",
            " [0 0 0 0 0 0 0 0]\n",
            " [0 0 0 0 1 1 0 0]\n",
            " [0 0 0 1 0 0 1 0]\n",
            " [0 0 0 0 1 1 0 0]]\n"
          ]
        }
      ],
      "source": [
        "grid = [\n",
        "    [0, 0, 0, 0, 0, 0, 0, 0],\n",
        "    [0, 0, 1, 1, 0, 0, 0, 0],\n",
        "    [0, 1, 0, 0, 1, 0, 0, 0],\n",
        "    [0, 0, 1, 1, 0, 0, 0, 0],\n",
        "    [0, 0, 0, 0, 0, 0, 0, 0],\n",
        "    [0, 0, 0, 0, 1, 1, 0, 0],\n",
        "    [0, 0, 0, 1, 0, 0, 1, 0],\n",
        "    [0, 0, 0, 0, 1, 1, 0, 0],\n",
        "]\n",
        "\n",
        "target_grid = np.array(grid)\n",
        "print(target_grid)"
      ]
    },
    {
      "cell_type": "markdown",
      "metadata": {
        "id": "G_sjM7Npmvps"
      },
      "source": [
        "This where we create our *initial_grid*, which will be used by the main program to test the rules. Few random cells of the grid will be set to 1 to have at least some cells with the 1 value."
      ]
    },
    {
      "cell_type": "code",
      "execution_count": null,
      "metadata": {
        "colab": {
          "base_uri": "https://localhost:8080/"
        },
        "id": "hz-GZT5Omvpt",
        "outputId": "904a6b5c-2b77-49f7-f690-7a9d25790528"
      },
      "outputs": [
        {
          "output_type": "stream",
          "name": "stdout",
          "text": [
            "[[0 0 0 0 0 0 0 0]\n",
            " [0 0 0 0 0 0 0 0]\n",
            " [0 0 1 0 0 0 0 0]\n",
            " [0 0 0 0 0 0 0 0]\n",
            " [0 0 0 0 1 0 0 0]\n",
            " [0 0 0 0 0 0 0 0]\n",
            " [0 0 0 0 0 0 0 0]\n",
            " [0 0 1 0 0 0 1 0]]\n"
          ]
        }
      ],
      "source": [
        "another_grid = [\n",
        "    [0, 0, 0, 0, 0, 0, 0, 0],\n",
        "    [0, 0, 0, 0, 0, 0, 0, 0],\n",
        "    [0, 0, 1, 0, 0, 0, 0, 0],\n",
        "    [0, 0, 0, 0, 0, 0, 0, 0],\n",
        "    [0, 0, 0, 0, 1, 0, 0, 0],\n",
        "    [0, 0, 0, 0, 0, 0, 0, 0],\n",
        "    [0, 0, 0, 0, 0, 0, 0, 0],\n",
        "    [0, 0, 1, 0, 0, 0, 1, 0]\n",
        "]\n",
        "\n",
        "initial_grid = np.array(another_grid)\n",
        "\n",
        "print(initial_grid)"
      ]
    },
    {
      "cell_type": "markdown",
      "metadata": {
        "id": "lnl3sEY2mvpt"
      },
      "source": [
        "This function, given a rule (a list of integers), will generate a new list containing an $action$ and an $body$, the main content of a rule. This is where the production rules are applied."
      ]
    },
    {
      "cell_type": "code",
      "execution_count": null,
      "metadata": {
        "id": "2YHLDcojmvpt"
      },
      "outputs": [],
      "source": [
        "def generate_rule(array):\n",
        "    action = A[array[0] % len(A)] #head is chosen here\n",
        "    i = 0\n",
        "    counter = 0\n",
        "    pattern = r\"[SVNO]\"\n",
        "    body = \"S\"\n",
        "    while any(char in body for char in [\"S\", \"V\", \"N\", \"O\"]):\n",
        "        counter += 1\n",
        "        if counter > max_iteration_for_expr_creation: #case for which the expansion become too big\n",
        "            return [action, \"abort\"]\n",
        "        if i >= len(array): i = 0 #case for which we have a small array of integers therefore we have to reiterate it\n",
        "        result = re.search(pattern, body)\n",
        "        index = result.start()\n",
        "        string = \"\"\n",
        "\n",
        "        if body[index] == \"S\":\n",
        "            string = S[array[i] % len(S)]\n",
        "        elif body[index] == \"O\":\n",
        "            string = O[array[i] % len(O)]\n",
        "        elif body[index] == \"V\":\n",
        "            string = V[array[i] % len(V)]\n",
        "        else:\n",
        "            string = N[array[i] % len(N)]\n",
        "        body = body[:index] + string + body[index + 1:]\n",
        "        i += 1\n",
        "    return [action, body]"
      ]
    },
    {
      "cell_type": "markdown",
      "metadata": {
        "id": "IJYju8q5mvpu"
      },
      "source": [
        "## **Game Of Life Class**"
      ]
    },
    {
      "cell_type": "markdown",
      "source": [
        "This is where we define the **GameOfLife** Class. This class is used to  run the game with the rules passed as parameter in the constructor. With the `run(...)` function the *initial_grid* will be updated by applying the rules using the `apply_rules(...)` function.\n",
        "\n",
        "Inside the `apply_rules(...)` function we:\n",
        "\n",
        "1.   check if the $body$ is evaluable using the `is_valid_expression(...)` function\n",
        "2.   in case of success we extract the $head$ and $body$ of the rule in the variable `extract`\n",
        "3.   we evaluate the $body$ using the `eval(...)` function\n",
        "4.   in case we get a **True** evaluation, we proceed to execute the $head$\n",
        "\n",
        "\n",
        "How `eval()` function works can be easily seen in this example below:"
      ],
      "metadata": {
        "id": "KRVr6h3lWl4t"
      }
    },
    {
      "cell_type": "code",
      "execution_count": null,
      "metadata": {
        "colab": {
          "base_uri": "https://localhost:8080/"
        },
        "id": "UwoGGzyemvpu",
        "outputId": "ff08b196-e65e-4b1f-e2e5-e416c48116db"
      },
      "outputs": [
        {
          "output_type": "stream",
          "name": "stdout",
          "text": [
            "True\n"
          ]
        }
      ],
      "source": [
        "def function1(value):\n",
        "    return value == 5\n",
        "\n",
        "def function2(value):\n",
        "    return value == 6\n",
        "\n",
        "print(eval(\"function1(5) and function2(6)\"))"
      ]
    },
    {
      "cell_type": "code",
      "execution_count": null,
      "metadata": {
        "id": "QiXPz80Imvpu"
      },
      "outputs": [],
      "source": [
        "class GameOfLife:\n",
        "    def __init__(self, initial_grid, target_grid, num_generations, rules):\n",
        "        self.grid = initial_grid\n",
        "        self.target_grid = target_grid\n",
        "        self.num_generations = num_generations\n",
        "        self.current = 0\n",
        "        self.best_grid = None\n",
        "        if check_structure_type(rules) == \"single list\":\n",
        "            self.rules = [rules]\n",
        "        else:\n",
        "            self.rules = rules\n",
        "\n",
        "    def count_living_neighbors(self, row, col):\n",
        "        rows, cols = len(self.grid), len(self.grid[0])\n",
        "        return sum(self.grid[i][j] for i in range(row - 1, row + 2) for j in range(col - 1, col + 2) if (0 <= i < rows and 0 <= j < cols and (i, j) != (row, col)))\n",
        "\n",
        "    def apply_rules(self, cell, living_neighbours):\n",
        "        for rule in self.rules:\n",
        "            if is_valid_expression(generate_rule(rule)[1]):\n",
        "                extract = generate_rule(rule)\n",
        "                if eval(extract[1]):\n",
        "                    if extract[0] == \"die\":\n",
        "                        return 0\n",
        "                    elif extract[0] == \"become_alive\":\n",
        "                        return 1\n",
        "                    else:\n",
        "                        return cell #survive\n",
        "        return cell\n",
        "\n",
        "    def run(self):\n",
        "        rows, cols = len(self.grid), len(self.grid[0])\n",
        "\n",
        "        for _ in range(self.num_generations):\n",
        "            next_state = [[0] * cols for _ in range(rows)]\n",
        "\n",
        "            for i in range(rows):\n",
        "                for j in range(cols):\n",
        "                    living_neighbors = self.count_living_neighbors(i, j)\n",
        "                    next_state[i][j] = self.apply_rules(self.grid[i][j], living_neighbors)\n",
        "\n",
        "            self.grid = copy.deepcopy(next_state)\n",
        "\n",
        "            best = jaccard_distance(self.target_grid, np.array(self.grid)) #fitness is evaluated after every generation\n",
        "\n",
        "            if best > self.current:\n",
        "                self.best_grid = copy.deepcopy(self.grid)\n",
        "                self.current = best\n",
        "\n",
        "    def get_best_fitness_through_generations(self):\n",
        "        return self.current\n",
        "\n",
        "    def get_best_grid(self):\n",
        "        return np.array(self.best_grid)"
      ]
    },
    {
      "cell_type": "markdown",
      "source": [
        "This function has been made to cover the corner case if the user decide that an individual is composed by just 1 rule. In this case we still have to wrap that rule inside a list."
      ],
      "metadata": {
        "id": "rc3HsoN_iJ-G"
      }
    },
    {
      "cell_type": "code",
      "execution_count": null,
      "metadata": {
        "id": "MnJVOP3xmvpu"
      },
      "outputs": [],
      "source": [
        "def check_structure_type(structure): #corner case if we have just 1 rule\n",
        "    if all(isinstance(sublist, list) for sublist in structure):\n",
        "        return \"list of lists\"\n",
        "    elif isinstance(structure, list):\n",
        "        return \"single list\""
      ]
    },
    {
      "cell_type": "markdown",
      "source": [
        "Function used to check if the $body$ of the generated rule is actually usable or not. The `try: ... except ... :` block is needed since the `eval()` would return an exception if it finds something not evaluable in the expression. In that case we return **False**, which means that the rule cannot be used. This function is basically used to handle the case $body$ = $abort$."
      ],
      "metadata": {
        "id": "zGV7wmZZiYOW"
      }
    },
    {
      "cell_type": "code",
      "execution_count": null,
      "metadata": {
        "id": "b2biZH7Rmvpv"
      },
      "outputs": [],
      "source": [
        "def is_valid_expression(expr, cell=1, living_neighbours=1):\n",
        "    try:\n",
        "        eval(expr)\n",
        "        return True\n",
        "    except Exception as e:\n",
        "        return False"
      ]
    },
    {
      "cell_type": "markdown",
      "source": [
        "These 2 functions will be used inside the `eval()` function when we will evaluate the $body$."
      ],
      "metadata": {
        "id": "lOnr2dLLjM_0"
      }
    },
    {
      "cell_type": "code",
      "execution_count": null,
      "metadata": {
        "id": "XIOIGShimvpv"
      },
      "outputs": [],
      "source": [
        "def is_dead(cell):\n",
        "    return cell == 0\n",
        "\n",
        "def is_alive(cell):\n",
        "    return cell == 1"
      ]
    },
    {
      "cell_type": "markdown",
      "source": [
        "## **Fitness Evaluation**\n",
        "\n",
        "For the fitness evaluation we want to compare the *initial_grid* (modified in the execution of the `run()` function) with the *target_grid* in each generation in the `run()` function. In this way we are able to control if in any generation we get something closer to the *target_grid*. To check how much similarity there is between these 2 matrixes I've decided to use the ***jaccard distance*** function, which measure the dissimilarity based on the proportion of positions where either matrix has a 1"
      ],
      "metadata": {
        "id": "lZY8ZqiSi2kl"
      }
    },
    {
      "cell_type": "code",
      "source": [
        "def jaccard_distance(grid1, grid2):\n",
        "    return (1 - jaccard(grid1.flatten(), grid2.flatten())) #we don't want the dissimilarity, but we want the similarity"
      ],
      "metadata": {
        "id": "3uu8xejIBMh2"
      },
      "execution_count": null,
      "outputs": []
    },
    {
      "cell_type": "code",
      "execution_count": null,
      "metadata": {
        "id": "wVapopZwmvpv"
      },
      "outputs": [],
      "source": [
        "def fit(rules):\n",
        "    init_grid = copy.deepcopy(initial_grid)\n",
        "    gameoflife = GameOfLife(init_grid, target_grid, num_generation, rules)\n",
        "    gameoflife.run()\n",
        "    return gameoflife.get_best_fitness_through_generations()"
      ]
    },
    {
      "cell_type": "markdown",
      "source": [
        "## **Crossover**\n"
      ],
      "metadata": {
        "id": "seXQveZZjplp"
      }
    },
    {
      "cell_type": "markdown",
      "source": [
        "For crossover I've chosen to use one-point crossover and uniform crossover between 2 individuals."
      ],
      "metadata": {
        "id": "JtjzYtYUXDCm"
      }
    },
    {
      "cell_type": "code",
      "execution_count": null,
      "metadata": {
        "id": "Q1ktZ5s_mvpw"
      },
      "outputs": [],
      "source": [
        "def one_point_crossover(indv1, indv2):\n",
        "    index = random.randint(0, min(len(indv1) - 1, len(indv2) - 1))\n",
        "    offspring1 = indv1[:index] + indv2[index:]\n",
        "    offspring2 = indv2[:index] + indv1[index:]\n",
        "    return offspring1, offspring2\n",
        "\n",
        "def uniform_crossover(indv1, indv2):\n",
        "    offspring = []\n",
        "    for gene1, gene2 in zip(indv1, indv2):\n",
        "        selected_gene = random.choice([gene1, gene2])\n",
        "        offspring.append(selected_gene)\n",
        "    return offspring"
      ]
    },
    {
      "cell_type": "code",
      "execution_count": null,
      "metadata": {
        "colab": {
          "base_uri": "https://localhost:8080/"
        },
        "id": "ye_0_lXKmvpw",
        "outputId": "a82c9ae2-6da9-4c2c-fc58-a0897c39fcc7"
      },
      "outputs": [
        {
          "output_type": "stream",
          "name": "stdout",
          "text": [
            "([[0, 0], [0, 0], [1, 1], [1, 1], [1, 1], [1, 1]], [[1, 1], [1, 1], [0, 0], [0, 0], [0, 0], [0, 0]])\n",
            "[[0, 0], [0, 0], [0, 0], [0, 0], [1, 1], [0, 0]]\n"
          ]
        }
      ],
      "source": [
        "x = [[0,0],[0,0],[0,0],[0,0],[0,0],[0,0]]\n",
        "y = [[1,1],[1,1],[1,1],[1,1],[1,1],[1,1]]\n",
        "\n",
        "#examples of usage\n",
        "print(one_point_crossover(x, y))\n",
        "print(uniform_crossover(x, y))"
      ]
    },
    {
      "cell_type": "markdown",
      "source": [
        "## **Mutation**\n"
      ],
      "metadata": {
        "id": "8EJyQ-AfjvfI"
      }
    },
    {
      "cell_type": "markdown",
      "source": [
        "For mutation I've decided to implement 3 types of mutation:\n",
        "\n",
        "1.   Substitute an existing rule with a new one\n",
        "2.   For every rule of an individual substitute an integer in the list with a new integer\n",
        "3.   Pair each rule in an individual following the pattern $i, i + 1$ and perform one-point crossover between the pairs"
      ],
      "metadata": {
        "id": "UArD8Zo0XFG1"
      }
    },
    {
      "cell_type": "code",
      "execution_count": null,
      "metadata": {
        "id": "SvUozkoGmvpw"
      },
      "outputs": [],
      "source": [
        "def mutation(indv1):\n",
        "    index = random.randint(0, len(indv1) - 1)\n",
        "    rule = [random.randint(0, max_range) for _ in range(random.randint(5, max_array_size))]\n",
        "    indv1[index] = rule\n",
        "    return indv1\n",
        "\n",
        "def deeper_number_mutation(indv1):\n",
        "    for rule in indv1:\n",
        "        index = random.randint(0, len(rule) - 1)\n",
        "        rule[index] = random.randint(0, max_range)\n",
        "    return indv1\n",
        "\n",
        "def deeper_swap_mutation(indv1):\n",
        "    pairs = [(indv1[i], indv1[(i + 1) % len(indv1)]) for i in range(len(indv1))]\n",
        "    offsprings = []\n",
        "    for x, y in pairs:\n",
        "        results = one_point_crossover(x, y)\n",
        "        offsprings.append(random.choice(results))\n",
        "    return offsprings"
      ]
    },
    {
      "cell_type": "code",
      "execution_count": null,
      "metadata": {
        "colab": {
          "base_uri": "https://localhost:8080/"
        },
        "id": "j_AvgAEomvpw",
        "outputId": "ec2296cf-3d7e-4626-c9cd-4a61b9bcc570"
      },
      "outputs": [
        {
          "output_type": "stream",
          "name": "stdout",
          "text": [
            "[[28, 16, 23, 23, 22, 18, 15], [11, 17, 93, 70, 60, 23, 57], [72, 28]]\n",
            "[[12, 38, 80, 5], [11, 17, 93, 70, 60, 23, 34], [72, 9]]\n",
            "[[11, 17, 93, 5], [11, 28], [72, 25, 80, 5]]\n"
          ]
        }
      ],
      "source": [
        "x = [[12,25,80, 5], [11, 17, 93, 70, 60, 23, 57], [72, 28]]\n",
        "y = [[12,25,80, 5], [11, 17, 93, 70, 60, 23, 57], [72, 28]]\n",
        "z = [[12,25,80, 5], [11, 17, 93, 70, 60, 23, 57], [72, 28]]\n",
        "\n",
        "#examples of usage\n",
        "print(mutation(x))\n",
        "print(deeper_number_mutation(y))\n",
        "print(deeper_swap_mutation(z))"
      ]
    },
    {
      "cell_type": "markdown",
      "source": [
        "## **Selection criteria**\n"
      ],
      "metadata": {
        "id": "z3VTKby8j67k"
      }
    },
    {
      "cell_type": "markdown",
      "source": [
        "Tournament selection has been chosen for this project."
      ],
      "metadata": {
        "id": "IZqy1PSUXI3F"
      }
    },
    {
      "cell_type": "code",
      "execution_count": null,
      "metadata": {
        "id": "nfPv3Qhamvpx"
      },
      "outputs": [],
      "source": [
        "def tournament_selection(fit, pop, t_size=5):\n",
        "  tournament = random.choices(pop, k=t_size)\n",
        "  return max(tournament, key=fit)"
      ]
    },
    {
      "cell_type": "markdown",
      "source": [
        "## **Population initialization**"
      ],
      "metadata": {
        "id": "1ljUg25xXNx0"
      }
    },
    {
      "cell_type": "markdown",
      "source": [
        "Function used to initialize the population of individuals."
      ],
      "metadata": {
        "id": "JVFxMtUgj3wo"
      }
    },
    {
      "cell_type": "code",
      "execution_count": null,
      "metadata": {
        "id": "4Ttkig1Amvpx"
      },
      "outputs": [],
      "source": [
        "def init_population(pop_size):\n",
        "  pop = []\n",
        "  for i in range(pop_size):\n",
        "    rules = []\n",
        "    for j in range(max_number_rules):\n",
        "        rule = [random.randint(0, max_range) for k in range(random.randint(5, max_array_size))]\n",
        "        rules.append(rule)\n",
        "    pop.append(rules)\n",
        "  return pop"
      ]
    },
    {
      "cell_type": "markdown",
      "source": [
        "## **GE Algorithm**"
      ],
      "metadata": {
        "id": "lcHI_XxqkAgy"
      }
    },
    {
      "cell_type": "code",
      "execution_count": null,
      "metadata": {
        "id": "OXlDzZMBmvpx"
      },
      "outputs": [],
      "source": [
        "def GE(fit, pop_size, n_iter = 10):\n",
        "  pop = init_population(pop_size)\n",
        "\n",
        "  best = []\n",
        "\n",
        "  for i in range(0, n_iter):\n",
        "    selected = [tournament_selection(fit, pop) for _ in range(0, pop_size)]\n",
        "    pairs = [[selected[i], selected[i + 1]] for i in range(len(selected) - 1)]\n",
        "\n",
        "    offsprings = []\n",
        "    for x, y in pairs:\n",
        "        if random.random() < p_cr:\n",
        "            of1, of2 = one_point_crossover(x, y)\n",
        "        else:\n",
        "            of1 = uniform_crossover(x, y)\n",
        "            of2 = uniform_crossover(x, y)\n",
        "        offsprings.append(of1)\n",
        "        offsprings.append(of2)\n",
        "\n",
        "    if random.random() < p_mut:\n",
        "        pop = [deeper_number_mutation(mutation(x)) for x in offsprings]\n",
        "    else:\n",
        "        pop = [deeper_swap_mutation(mutation(x)) for x in offsprings]\n",
        "\n",
        "    candidate_best = max(pop, key=fit)\n",
        "    print(\"Best candidate rules:\")\n",
        "    for rule in candidate_best:\n",
        "      print(f\"{generate_rule(rule)},\")\n",
        "    print(f\"candidate fitness: {fit(candidate_best)} , best fitness: {fit(best)}\")\n",
        "    if fit(candidate_best) > fit(best):\n",
        "      best = candidate_best\n",
        "    print(f\"Best fitness at generation {i}: {fit(best)} \\n\")\n",
        "  return best"
      ]
    },
    {
      "cell_type": "code",
      "execution_count": null,
      "metadata": {
        "id": "KXCklBTLmvpx",
        "colab": {
          "base_uri": "https://localhost:8080/"
        },
        "outputId": "fa00e2b9-4364-43ba-86e1-c556f6c5074b"
      },
      "outputs": [
        {
          "output_type": "stream",
          "name": "stdout",
          "text": [
            "Best candidate rules:\n",
            "['become_alive', '((is_dead(cell))) <=living_neighbours<= (0)'],\n",
            "['become_alive', '((is_dead(cell))) <=living_neighbours<= (7)'],\n",
            "['become_alive', '(is_alive(cell))'],\n",
            "['survive', '((is_dead(cell))) and (6)'],\n",
            "candidate fitness: 0.32258064516129037 , best fitness: 0\n",
            "Best fitness at generation 0: 0.32258064516129037 \n",
            "\n",
            "Best candidate rules:\n",
            "['die', '((((is_dead(cell))) or (is_alive(cell))) <=living_neighbours<= (is_alive(cell))) <=living_neighbours<= (is_alive(cell))'],\n",
            "['die', '((((is_dead(cell))) or (is_alive(cell))) <=living_neighbours<= (is_alive(cell))) or (is_alive(cell))'],\n",
            "['die', '(is_alive(cell))'],\n",
            "['become_alive', '(is_dead(cell))'],\n",
            "candidate fitness: 0.37037037037037035 , best fitness: 0.32258064516129037\n",
            "Best fitness at generation 1: 0.37037037037037035 \n",
            "\n",
            "Best candidate rules:\n",
            "['become_alive', '((1)) <=living_neighbours<= (is_dead(cell))'],\n",
            "['die', '((is_alive(cell))) or (5)'],\n",
            "['die', '((is_alive(cell))) or (1)'],\n",
            "['survive', 'abort'],\n",
            "candidate fitness: 0.33333333333333337 , best fitness: 0.37037037037037035\n",
            "Best fitness at generation 2: 0.37037037037037035 \n",
            "\n",
            "Best candidate rules:\n",
            "['die', '((((is_alive(cell))) <=living_neighbours<= (is_alive(cell))) and (is_dead(cell))) or (is_alive(cell))'],\n",
            "['become_alive', '(is_dead(cell))'],\n",
            "['become_alive', '(is_dead(cell))'],\n",
            "['die', '((((is_dead(cell))) <=living_neighbours<= (is_alive(cell))) <=living_neighbours<= (is_alive(cell))) <=living_neighbours<= (is_alive(cell))'],\n",
            "candidate fitness: 0.37037037037037035 , best fitness: 0.37037037037037035\n",
            "Best fitness at generation 3: 0.37037037037037035 \n",
            "\n",
            "Best candidate rules:\n",
            "['die', '(is_alive(cell))'],\n",
            "['become_alive', '((is_dead(cell))) <=living_neighbours<= (is_dead(cell))'],\n",
            "['become_alive', '((is_dead(cell))) <=living_neighbours<= (6)'],\n",
            "['die', '(is_alive(cell))'],\n",
            "candidate fitness: 0.37037037037037035 , best fitness: 0.37037037037037035\n",
            "Best fitness at generation 4: 0.37037037037037035 \n",
            "\n",
            "Best candidate rules:\n",
            "['die', '(is_alive(cell))'],\n",
            "['become_alive', '((is_dead(cell))) <=living_neighbours<= (is_dead(cell))'],\n",
            "['become_alive', '((is_dead(cell))) <=living_neighbours<= (3)'],\n",
            "['survive', '((((0)) or (is_dead(cell))) and (is_alive(cell))) <=living_neighbours<= (is_alive(cell))'],\n",
            "candidate fitness: 0.37037037037037035 , best fitness: 0.37037037037037035\n",
            "Best fitness at generation 5: 0.37037037037037035 \n",
            "\n",
            "Best candidate rules:\n",
            "['die', '((((((6)) or (is_alive(cell))) or (0)) or (6)) <=living_neighbours<= (is_alive(cell))) <=living_neighbours<= (is_alive(cell))'],\n",
            "['become_alive', '(4)'],\n",
            "['become_alive', '((is_dead(cell))) or (is_alive(cell))'],\n",
            "['become_alive', '(is_alive(cell))'],\n",
            "candidate fitness: 0.37037037037037035 , best fitness: 0.37037037037037035\n",
            "Best fitness at generation 6: 0.37037037037037035 \n",
            "\n",
            "Best candidate rules:\n",
            "['die', '(is_alive(cell))'],\n",
            "['die', '((is_alive(cell))) <=living_neighbours<= (is_alive(cell))'],\n",
            "['become_alive', '(1)'],\n",
            "['become_alive', '(((is_alive(cell))) <=living_neighbours<= (2)) or (2)'],\n",
            "candidate fitness: 0.37037037037037035 , best fitness: 0.37037037037037035\n",
            "Best fitness at generation 7: 0.37037037037037035 \n",
            "\n",
            "Best candidate rules:\n",
            "['die', '(((4)) and (5)) <=living_neighbours<= (is_dead(cell))'],\n",
            "['die', '(((1)) <=living_neighbours<= (3)) <=living_neighbours<= (is_alive(cell))'],\n",
            "['become_alive', '(((is_alive(cell))) or (is_alive(cell))) and (8)'],\n",
            "['become_alive', '(((is_alive(cell))) and (is_dead(cell))) <=living_neighbours<= (5)'],\n",
            "candidate fitness: 0.37037037037037035 , best fitness: 0.37037037037037035\n",
            "Best fitness at generation 8: 0.37037037037037035 \n",
            "\n",
            "Best candidate rules:\n",
            "['become_alive', '(((1)) <=living_neighbours<= (4)) and (is_dead(cell))'],\n",
            "['die', '(6)'],\n",
            "['die', '((((4)) <=living_neighbours<= (is_alive(cell))) <=living_neighbours<= (is_alive(cell))) and (0)'],\n",
            "['die', '(((((((is_alive(cell))) and (6)) or (7)) or (is_alive(cell))) or (is_alive(cell))) and (4)) <=living_neighbours<= (is_dead(cell))'],\n",
            "candidate fitness: 0.37037037037037035 , best fitness: 0.37037037037037035\n",
            "Best fitness at generation 9: 0.37037037037037035 \n",
            "\n",
            "BEST RULES FOUND\n",
            "\n",
            "['die', '((((is_dead(cell))) or (is_alive(cell))) <=living_neighbours<= (is_alive(cell))) <=living_neighbours<= (is_alive(cell))'],\n",
            "['die', '((((is_dead(cell))) or (is_alive(cell))) <=living_neighbours<= (is_alive(cell))) or (is_alive(cell))'],\n",
            "['die', '(is_alive(cell))'],\n",
            "['become_alive', '(is_dead(cell))'],\n",
            "\n",
            "Initial grid:\n",
            "[[0 0 0 0 0 0 0 0]\n",
            " [0 0 0 0 0 0 0 0]\n",
            " [0 0 1 0 0 0 0 0]\n",
            " [0 0 0 0 0 0 0 0]\n",
            " [0 0 0 0 1 0 0 0]\n",
            " [0 0 0 0 0 0 0 0]\n",
            " [0 0 0 0 0 0 0 0]\n",
            " [0 0 1 0 0 0 1 0]]\n",
            "Target grid:\n",
            "[[0 0 0 0 0 0 0 0]\n",
            " [0 0 1 1 0 0 0 0]\n",
            " [0 1 0 0 1 0 0 0]\n",
            " [0 0 1 1 0 0 0 0]\n",
            " [0 0 0 0 0 0 0 0]\n",
            " [0 0 0 0 1 1 0 0]\n",
            " [0 0 0 1 0 0 1 0]\n",
            " [0 0 0 0 1 1 0 0]]\n",
            "Best grid throughout 5 generations:\n",
            "[[0 0 0 0 0 0 0 0]\n",
            " [0 1 1 1 0 0 0 0]\n",
            " [0 1 0 1 0 0 0 0]\n",
            " [0 1 1 1 1 1 0 0]\n",
            " [0 0 0 1 0 1 0 0]\n",
            " [0 0 0 1 1 1 0 0]\n",
            " [0 1 1 1 0 1 1 1]\n",
            " [0 1 0 1 0 1 0 1]]\n"
          ]
        }
      ],
      "source": [
        "best = GE(fit, 100)\n",
        "print(\"BEST RULES FOUND\\n\")\n",
        "for rule in best:\n",
        "    print(f\"{generate_rule(rule)},\")\n",
        "\n",
        "init_grid_re = copy.deepcopy(initial_grid)\n",
        "gameoflife_re = GameOfLife(init_grid_re, target_grid, num_generation, best)\n",
        "gameoflife_re.run()\n",
        "print(f\"\\nInitial grid:\\n{init_grid_re}\\nTarget grid:\\n{target_grid}\\nBest grid throughout {num_generation} generations:\\n{gameoflife_re.get_best_grid()}\")\n"
      ]
    },
    {
      "cell_type": "markdown",
      "source": [
        "## **Variation of the Production Rules**"
      ],
      "metadata": {
        "id": "uKvtw_dkqurF"
      }
    },
    {
      "cell_type": "markdown",
      "source": [
        "The production rules that have been used up to now have been created by analyzing how the real rules of the Conway's Game of Life were made. But since with those rules it's very difficult to obtain certain patterns in a matrix, I've decided to try using a different set of production rules for which we take into account how the **neighbours cell are arranged**."
      ],
      "metadata": {
        "id": "hyPRFaTdYE0H"
      }
    },
    {
      "cell_type": "code",
      "source": [
        "S = [\"(S) O (V)\", \"(S) O (N)\", \"(N)\", \"(V)\"]\n",
        "O = [\"and\", \"or\"]\n",
        "V = [\"is_alive(cell)\", \"is_dead(cell)\"]\n",
        "N = [\"n_alive(celln)\", \"not n_alive(celln)\", \"s_alive(cells)\", \"not s_alive(cells)\", \"w_alive(cellw)\", \"not w_alive(cellw)\", \"e_alive(celle)\", \"not e_alive(celle)\",\n",
        "     \"nw_alive(cellnw)\", \"not nw_alive(cellnw)\", \"ne_alive(cellne)\", \"not ne_alive(cellne)\", \"sw_alive(cellsw)\", \"not sw_alive(cellsw)\", \"se_alive(cellse)\", \"not se_alive(cellse)\",]\n",
        "A = [\"die\", \"survive\", \"become_alive\"]"
      ],
      "metadata": {
        "id": "sT-veCMxq2Yp"
      },
      "execution_count": null,
      "outputs": []
    },
    {
      "cell_type": "markdown",
      "source": [
        "As done before with the `is_alive(cell)` and `is_dead(cell)` functions, here we have to include all the functions for the 8 positions around a single cell."
      ],
      "metadata": {
        "id": "iOeDxzweYxmQ"
      }
    },
    {
      "cell_type": "code",
      "source": [
        "def n_alive(celln): #NORD\n",
        "    return celln == 1\n",
        "\n",
        "def s_alive(cells): #SOUTH\n",
        "    return cells == 1\n",
        "\n",
        "def w_alive(cellw): #WEST\n",
        "    return cellw == 1\n",
        "\n",
        "def e_alive(celle): #EAST\n",
        "    return celle == 1\n",
        "\n",
        "def ne_alive(cellne): #NORD-EAST\n",
        "    return cellne == 1\n",
        "\n",
        "def nw_alive(cellnw): #NORD-WEST\n",
        "    return cellnw == 1\n",
        "\n",
        "def se_alive(cellse): #SOUTH-EAST\n",
        "    return cellse == 1\n",
        "\n",
        "def sw_alive(cellsw): #SOUTH-WEST\n",
        "    return cellsw == 1"
      ],
      "metadata": {
        "id": "du-5BF0Qrt0f"
      },
      "execution_count": null,
      "outputs": []
    },
    {
      "cell_type": "markdown",
      "source": [
        "Also the **GameOfLife** class has to be modified since now we are not interested into `count_living_neighbors()` but we are interested into `get_neighbours_values()`. Also the `apply_rules()` function has to be modified since now we have to pass all the values of the neighbour of a cell.\n",
        "\n",
        "*Observation*: to avoid annoying corner cases in the border of the grid, when we scan the grid to apply the rules, we scan all the cells that are in the rage of `(1, rows - 2) x (1, cols - 2)`"
      ],
      "metadata": {
        "id": "RrdjAHwfZVNN"
      }
    },
    {
      "cell_type": "code",
      "source": [
        "class GameOfLife:\n",
        "    def __init__(self, initial_grid, target_grid, num_generations, rules):\n",
        "        self.grid = initial_grid\n",
        "        self.target_grid = target_grid\n",
        "        self.num_generations = num_generations\n",
        "        self.current = 0\n",
        "        self.best_grid = None\n",
        "        if check_structure_type(rules) == \"single list\":\n",
        "            self.rules = [rules]\n",
        "        else:\n",
        "            self.rules = rules\n",
        "\n",
        "    def get_neighbours_values(self, row, col):\n",
        "        rows, cols = len(self.grid), len(self.grid[0])\n",
        "        return [self.grid[i][j] for i in range(row - 1, row + 2) for j in range(col - 1, col + 2) if (0 <= i < rows and 0 <= j < cols and (i, j) != (row, col))]\n",
        "        #  1  2  3\n",
        "        #  4     5\n",
        "        #  6  7  8\n",
        "\n",
        "    def apply_rules(self, cell, cellnw, celln, cellne, cellw, celle, cellsw, cells, cellse):\n",
        "        for rule in self.rules:\n",
        "            if is_valid_expression(generate_rule(rule)[1]):\n",
        "                extract = generate_rule(rule)\n",
        "                if eval(extract[1]):\n",
        "                    if extract[0] == \"die\":\n",
        "                        return 0\n",
        "                    elif extract[0] == \"become_alive\":\n",
        "                        return 1\n",
        "                    else:\n",
        "                        return cell #survive\n",
        "        return cell\n",
        "\n",
        "    def run(self):\n",
        "        rows, cols = len(self.grid), len(self.grid[0])\n",
        "\n",
        "        for _ in range(self.num_generations):\n",
        "            next_state = [[0] * cols for _ in range(rows)]\n",
        "\n",
        "            for i in range(1, rows - 2):\n",
        "                for j in range(1, cols - 2):\n",
        "                    nb = self.get_neighbours_values(i, j)\n",
        "                    next_state[i][j] = self.apply_rules(self.grid[i][j], nb[0], nb[1], nb[2], nb[3], nb[4], nb[5], nb[6], nb[7])\n",
        "\n",
        "            self.grid = copy.deepcopy(next_state)\n",
        "\n",
        "            best = jaccard_distance(self.target_grid, np.array(self.grid)) #fitness is evaluated after every generation\n",
        "\n",
        "            if best > self.current:\n",
        "                self.best_grid = copy.deepcopy(self.grid)\n",
        "                self.current = best\n",
        "\n",
        "    def get_best_fitness_through_generations(self):\n",
        "        return self.current\n",
        "\n",
        "    def get_best_grid(self):\n",
        "        return np.array(self.best_grid)\n"
      ],
      "metadata": {
        "id": "xTbaEO_BsfcP"
      },
      "execution_count": null,
      "outputs": []
    },
    {
      "cell_type": "code",
      "source": [
        "#redefinition of others initial and target grids\n",
        "grid = [\n",
        "    [0, 0, 0, 0, 0, 0, 0, 1],\n",
        "    [0, 0, 0, 0, 0, 0, 1, 0],\n",
        "    [0, 0, 0, 0, 0, 1, 0, 0],\n",
        "    [0, 0, 0, 0, 1, 0, 0, 0],\n",
        "    [0, 0, 0, 1, 0, 0, 0, 0],\n",
        "    [0, 0, 1, 0, 0, 0, 0, 0],\n",
        "    [0, 1, 0, 0, 0, 0, 0, 0],\n",
        "    [1, 0, 0, 0, 0, 0, 0, 0],\n",
        "]\n",
        "\n",
        "target_grid = np.array(grid)\n",
        "\n",
        "another_grid = [\n",
        "    [0, 0, 0, 0, 0, 0, 0, 0],\n",
        "    [0, 0, 0, 0, 0, 0, 0, 0],\n",
        "    [0, 0, 0, 0, 0, 0, 0, 0],\n",
        "    [0, 0, 0, 0, 1, 0, 0, 0],\n",
        "    [0, 1, 0, 0, 0, 0, 0, 0],\n",
        "    [0, 0, 0, 0, 0, 0, 0, 0],\n",
        "    [0, 0, 0, 0, 0, 0, 1, 0],\n",
        "    [0, 0, 1, 0, 0, 0, 0, 0]\n",
        "]\n",
        "\n",
        "initial_grid = np.array(another_grid)"
      ],
      "metadata": {
        "id": "OEDccWYRwfeK"
      },
      "execution_count": null,
      "outputs": []
    },
    {
      "cell_type": "code",
      "source": [
        "best = GE(fit, 100)\n",
        "print(\"BEST RULES FOUND\\n\")\n",
        "for rule in best:\n",
        "    print(f\"{generate_rule(rule)},\")\n",
        "\n",
        "init_grid_re = copy.deepcopy(initial_grid)\n",
        "gameoflife_re = GameOfLife(init_grid_re, target_grid, num_generation, best)\n",
        "gameoflife_re.run()\n",
        "print(f\"\\nInitial grid:\\n{init_grid_re}\\nTarget grid:\\n{target_grid}\\nBest grid throughout {num_generation} generations:\\n{gameoflife_re.get_best_grid()}\")"
      ],
      "metadata": {
        "colab": {
          "base_uri": "https://localhost:8080/"
        },
        "id": "bsMPeAsOwQ0P",
        "outputId": "3b77ae6d-64fd-4677-8f2c-91ae237beeb2"
      },
      "execution_count": null,
      "outputs": [
        {
          "output_type": "stream",
          "name": "stdout",
          "text": [
            "Best candidate rules:\n",
            "['become_alive', '((is_dead(cell))) and (w_alive(cellw))'],\n",
            "['survive', '(not s_alive(cells))'],\n",
            "['become_alive', '((is_alive(cell))) or (is_alive(cell))'],\n",
            "['become_alive', '((is_dead(cell))) and (nw_alive(cellnw))'],\n",
            "candidate fitness: 0.23076923076923073 , best fitness: 0.11111111111111116\n",
            "Best fitness at generation 0: 0.23076923076923073 \n",
            "\n",
            "Best candidate rules:\n",
            "['die', '((((is_dead(cell))) and (not se_alive(cellse))) and (ne_alive(cellne))) or (is_alive(cell))'],\n",
            "['die', '((is_alive(cell))) or (is_alive(cell))'],\n",
            "['survive', '((not e_alive(celle))) or (not e_alive(celle))'],\n",
            "['become_alive', '(is_dead(cell))'],\n",
            "candidate fitness: 0.375 , best fitness: 0.23076923076923073\n",
            "Best fitness at generation 1: 0.375 \n",
            "\n",
            "Best candidate rules:\n",
            "['become_alive', '((not n_alive(celln))) or (w_alive(cellw))'],\n",
            "['die', '((s_alive(cells))) and (is_dead(cell))'],\n",
            "['become_alive', '(((is_alive(cell))) or (ne_alive(cellne))) or (s_alive(cells))'],\n",
            "['become_alive', '((not se_alive(cellse))) or (sw_alive(cellsw))'],\n",
            "candidate fitness: 0.2142857142857143 , best fitness: 0.375\n",
            "Best fitness at generation 2: 0.375 \n",
            "\n",
            "Best candidate rules:\n",
            "['become_alive', '((not nw_alive(cellnw))) or (is_alive(cell))'],\n",
            "['become_alive', '((is_alive(cell))) or (ne_alive(cellne))'],\n",
            "['become_alive', '((is_dead(cell))) or (not nw_alive(cellnw))'],\n",
            "['become_alive', '((not nw_alive(cellnw))) or (is_alive(cell))'],\n",
            "candidate fitness: 0.33333333333333337 , best fitness: 0.375\n",
            "Best fitness at generation 3: 0.375 \n",
            "\n",
            "Best candidate rules:\n",
            "['become_alive', '((is_dead(cell))) and (sw_alive(cellsw))'],\n",
            "['become_alive', '((is_dead(cell))) and (ne_alive(cellne))'],\n",
            "['die', '(not s_alive(cells))'],\n",
            "['become_alive', '((is_dead(cell))) or (not n_alive(celln))'],\n",
            "candidate fitness: 0.36363636363636365 , best fitness: 0.375\n",
            "Best fitness at generation 4: 0.375 \n",
            "\n",
            "Best candidate rules:\n",
            "['become_alive', '((is_dead(cell))) and (nw_alive(cellnw))'],\n",
            "['become_alive', '((is_dead(cell))) and (nw_alive(cellnw))'],\n",
            "['become_alive', '((is_dead(cell))) and (nw_alive(cellnw))'],\n",
            "['become_alive', '((is_dead(cell))) and (sw_alive(cellsw))'],\n",
            "candidate fitness: 0.33333333333333337 , best fitness: 0.375\n",
            "Best fitness at generation 5: 0.375 \n",
            "\n",
            "Best candidate rules:\n",
            "['become_alive', '(((se_alive(cellse))) and (w_alive(cellw))) and (not nw_alive(cellnw))'],\n",
            "['die', '(not s_alive(cells))'],\n",
            "['become_alive', '(((not n_alive(celln))) or (is_dead(cell))) and (e_alive(celle))'],\n",
            "['become_alive', '((is_alive(cell))) or (ne_alive(cellne))'],\n",
            "candidate fitness: 0.33333333333333337 , best fitness: 0.375\n",
            "Best fitness at generation 6: 0.375 \n",
            "\n",
            "Best candidate rules:\n",
            "['become_alive', '((is_alive(cell))) or (ne_alive(cellne))'],\n",
            "['die', '((not nw_alive(cellnw))) or (is_alive(cell))'],\n",
            "['die', '((not nw_alive(cellnw))) or (is_alive(cell))'],\n",
            "['become_alive', '((is_alive(cell))) or (sw_alive(cellsw))'],\n",
            "candidate fitness: 0.36363636363636365 , best fitness: 0.375\n",
            "Best fitness at generation 7: 0.375 \n",
            "\n",
            "Best candidate rules:\n",
            "['become_alive', '((e_alive(celle))) and (ne_alive(cellne))'],\n",
            "['become_alive', '((e_alive(celle))) or (not w_alive(cellw))'],\n",
            "['become_alive', '((is_dead(cell))) and (sw_alive(cellsw))'],\n",
            "['become_alive', '((is_dead(cell))) and (ne_alive(cellne))'],\n",
            "candidate fitness: 0.36363636363636365 , best fitness: 0.375\n",
            "Best fitness at generation 8: 0.375 \n",
            "\n",
            "Best candidate rules:\n",
            "['become_alive', '((is_alive(cell))) or (ne_alive(cellne))'],\n",
            "['become_alive', '((is_dead(cell))) and (sw_alive(cellsw))'],\n",
            "['become_alive', '((is_dead(cell))) and (sw_alive(cellsw))'],\n",
            "['survive', '((e_alive(celle))) or (is_dead(cell))'],\n",
            "candidate fitness: 0.36363636363636365 , best fitness: 0.375\n",
            "Best fitness at generation 9: 0.375 \n",
            "\n",
            "BEST RULES FOUND\n",
            "\n",
            "['die', '((((is_dead(cell))) and (not se_alive(cellse))) and (ne_alive(cellne))) or (is_alive(cell))'],\n",
            "['die', '((is_alive(cell))) or (is_alive(cell))'],\n",
            "['survive', '((not e_alive(celle))) or (not e_alive(celle))'],\n",
            "['become_alive', '(is_dead(cell))'],\n",
            "\n",
            "Initial grid:\n",
            "[[0 0 0 0 0 0 0 0]\n",
            " [0 0 0 0 0 0 0 0]\n",
            " [0 0 0 0 0 0 0 0]\n",
            " [0 0 0 0 1 0 0 0]\n",
            " [0 1 0 0 0 0 0 0]\n",
            " [0 0 0 0 0 0 0 0]\n",
            " [0 0 0 0 0 0 1 0]\n",
            " [0 0 1 0 0 0 0 0]]\n",
            "Target grid:\n",
            "[[0 0 0 0 0 0 0 1]\n",
            " [0 0 0 0 0 0 1 0]\n",
            " [0 0 0 0 0 1 0 0]\n",
            " [0 0 0 0 1 0 0 0]\n",
            " [0 0 0 1 0 0 0 0]\n",
            " [0 0 1 0 0 0 0 0]\n",
            " [0 1 0 0 0 0 0 0]\n",
            " [1 0 0 0 0 0 0 0]]\n",
            "Best grid throughout 5 generations:\n",
            "[[0 0 0 0 0 0 0 0]\n",
            " [0 0 0 0 0 0 0 0]\n",
            " [0 0 0 0 0 0 0 0]\n",
            " [0 0 0 0 1 0 0 0]\n",
            " [0 0 0 1 0 0 0 0]\n",
            " [0 0 1 0 0 0 0 0]\n",
            " [0 0 0 0 0 0 0 0]\n",
            " [0 0 0 0 0 0 0 0]]\n"
          ]
        }
      ]
    }
  ],
  "metadata": {
    "colab": {
      "provenance": []
    },
    "kernelspec": {
      "display_name": "base",
      "language": "python",
      "name": "python3"
    },
    "language_info": {
      "codemirror_mode": {
        "name": "ipython",
        "version": 3
      },
      "file_extension": ".py",
      "mimetype": "text/x-python",
      "name": "python",
      "nbconvert_exporter": "python",
      "pygments_lexer": "ipython3",
      "version": "3.9.13"
    }
  },
  "nbformat": 4,
  "nbformat_minor": 0
}